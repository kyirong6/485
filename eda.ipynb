{
 "cells": [
  {
   "cell_type": "code",
   "execution_count": 9,
   "id": "ecd542ad",
   "metadata": {},
   "outputs": [],
   "source": [
    "import pandas as pd\n",
    "import datetime as dt"
   ]
  },
  {
   "cell_type": "code",
   "execution_count": 96,
   "id": "923fd5b9",
   "metadata": {},
   "outputs": [],
   "source": [
    "df = pd.read_csv('data/twitter-stocks.csv')"
   ]
  },
  {
   "cell_type": "code",
   "execution_count": 4,
   "id": "fbff6d6b",
   "metadata": {},
   "outputs": [
    {
     "data": {
      "text/html": [
       "<div>\n",
       "<style scoped>\n",
       "    .dataframe tbody tr th:only-of-type {\n",
       "        vertical-align: middle;\n",
       "    }\n",
       "\n",
       "    .dataframe tbody tr th {\n",
       "        vertical-align: top;\n",
       "    }\n",
       "\n",
       "    .dataframe thead th {\n",
       "        text-align: right;\n",
       "    }\n",
       "</style>\n",
       "<table border=\"1\" class=\"dataframe\">\n",
       "  <thead>\n",
       "    <tr style=\"text-align: right;\">\n",
       "      <th></th>\n",
       "      <th>Date</th>\n",
       "      <th>Open</th>\n",
       "      <th>High</th>\n",
       "      <th>Low</th>\n",
       "      <th>Close</th>\n",
       "      <th>Adj Close</th>\n",
       "      <th>Volume</th>\n",
       "    </tr>\n",
       "  </thead>\n",
       "  <tbody>\n",
       "    <tr>\n",
       "      <th>0</th>\n",
       "      <td>2013-11-07</td>\n",
       "      <td>45.099998</td>\n",
       "      <td>50.090000</td>\n",
       "      <td>44.000000</td>\n",
       "      <td>44.900002</td>\n",
       "      <td>44.900002</td>\n",
       "      <td>117701670.0</td>\n",
       "    </tr>\n",
       "    <tr>\n",
       "      <th>1</th>\n",
       "      <td>2013-11-08</td>\n",
       "      <td>45.930000</td>\n",
       "      <td>46.939999</td>\n",
       "      <td>40.685001</td>\n",
       "      <td>41.650002</td>\n",
       "      <td>41.650002</td>\n",
       "      <td>27925307.0</td>\n",
       "    </tr>\n",
       "    <tr>\n",
       "      <th>2</th>\n",
       "      <td>2013-11-11</td>\n",
       "      <td>40.500000</td>\n",
       "      <td>43.000000</td>\n",
       "      <td>39.400002</td>\n",
       "      <td>42.900002</td>\n",
       "      <td>42.900002</td>\n",
       "      <td>16113941.0</td>\n",
       "    </tr>\n",
       "    <tr>\n",
       "      <th>3</th>\n",
       "      <td>2013-11-12</td>\n",
       "      <td>43.660000</td>\n",
       "      <td>43.779999</td>\n",
       "      <td>41.830002</td>\n",
       "      <td>41.900002</td>\n",
       "      <td>41.900002</td>\n",
       "      <td>6316755.0</td>\n",
       "    </tr>\n",
       "    <tr>\n",
       "      <th>4</th>\n",
       "      <td>2013-11-13</td>\n",
       "      <td>41.029999</td>\n",
       "      <td>42.869999</td>\n",
       "      <td>40.759998</td>\n",
       "      <td>42.599998</td>\n",
       "      <td>42.599998</td>\n",
       "      <td>8688325.0</td>\n",
       "    </tr>\n",
       "    <tr>\n",
       "      <th>5</th>\n",
       "      <td>2013-11-14</td>\n",
       "      <td>42.340000</td>\n",
       "      <td>45.669998</td>\n",
       "      <td>42.240002</td>\n",
       "      <td>44.689999</td>\n",
       "      <td>44.689999</td>\n",
       "      <td>11099433.0</td>\n",
       "    </tr>\n",
       "    <tr>\n",
       "      <th>6</th>\n",
       "      <td>2013-11-15</td>\n",
       "      <td>45.250000</td>\n",
       "      <td>45.270000</td>\n",
       "      <td>43.430000</td>\n",
       "      <td>43.980000</td>\n",
       "      <td>43.980000</td>\n",
       "      <td>8010663.0</td>\n",
       "    </tr>\n",
       "    <tr>\n",
       "      <th>7</th>\n",
       "      <td>2013-11-18</td>\n",
       "      <td>43.500000</td>\n",
       "      <td>43.950001</td>\n",
       "      <td>40.849998</td>\n",
       "      <td>41.139999</td>\n",
       "      <td>41.139999</td>\n",
       "      <td>12810624.0</td>\n",
       "    </tr>\n",
       "    <tr>\n",
       "      <th>8</th>\n",
       "      <td>2013-11-19</td>\n",
       "      <td>41.389999</td>\n",
       "      <td>41.900002</td>\n",
       "      <td>40.000000</td>\n",
       "      <td>41.750000</td>\n",
       "      <td>41.750000</td>\n",
       "      <td>7436616.0</td>\n",
       "    </tr>\n",
       "    <tr>\n",
       "      <th>9</th>\n",
       "      <td>2013-11-20</td>\n",
       "      <td>41.400002</td>\n",
       "      <td>41.750000</td>\n",
       "      <td>40.509998</td>\n",
       "      <td>41.049999</td>\n",
       "      <td>41.049999</td>\n",
       "      <td>5767325.0</td>\n",
       "    </tr>\n",
       "  </tbody>\n",
       "</table>\n",
       "</div>"
      ],
      "text/plain": [
       "         Date       Open       High        Low      Close  Adj Close  \\\n",
       "0  2013-11-07  45.099998  50.090000  44.000000  44.900002  44.900002   \n",
       "1  2013-11-08  45.930000  46.939999  40.685001  41.650002  41.650002   \n",
       "2  2013-11-11  40.500000  43.000000  39.400002  42.900002  42.900002   \n",
       "3  2013-11-12  43.660000  43.779999  41.830002  41.900002  41.900002   \n",
       "4  2013-11-13  41.029999  42.869999  40.759998  42.599998  42.599998   \n",
       "5  2013-11-14  42.340000  45.669998  42.240002  44.689999  44.689999   \n",
       "6  2013-11-15  45.250000  45.270000  43.430000  43.980000  43.980000   \n",
       "7  2013-11-18  43.500000  43.950001  40.849998  41.139999  41.139999   \n",
       "8  2013-11-19  41.389999  41.900002  40.000000  41.750000  41.750000   \n",
       "9  2013-11-20  41.400002  41.750000  40.509998  41.049999  41.049999   \n",
       "\n",
       "        Volume  \n",
       "0  117701670.0  \n",
       "1   27925307.0  \n",
       "2   16113941.0  \n",
       "3    6316755.0  \n",
       "4    8688325.0  \n",
       "5   11099433.0  \n",
       "6    8010663.0  \n",
       "7   12810624.0  \n",
       "8    7436616.0  \n",
       "9    5767325.0  "
      ]
     },
     "execution_count": 4,
     "metadata": {},
     "output_type": "execute_result"
    }
   ],
   "source": [
    "df.head(10)"
   ]
  },
  {
   "cell_type": "markdown",
   "id": "9c87646f",
   "metadata": {},
   "source": [
    "## Plots"
   ]
  },
  {
   "cell_type": "code",
   "execution_count": 45,
   "id": "72f2d3a7",
   "metadata": {},
   "outputs": [],
   "source": [
    "import matplotlib.pyplot as plt\n",
    "import seaborn as sns "
   ]
  },
  {
   "cell_type": "code",
   "execution_count": 5,
   "id": "3b9b91cb",
   "metadata": {},
   "outputs": [
    {
     "data": {
      "text/plain": [
       "(2259, 7)"
      ]
     },
     "execution_count": 5,
     "metadata": {},
     "output_type": "execute_result"
    }
   ],
   "source": [
    "df.shape"
   ]
  },
  {
   "cell_type": "code",
   "execution_count": 10,
   "id": "f3434961",
   "metadata": {},
   "outputs": [],
   "source": [
    "df['Date'] = pd.to_datetime(df['Date'])\n",
    "df_recent = df[df['Date'].dt.year >= 2018] # use data from 2018 onwards"
   ]
  },
  {
   "cell_type": "code",
   "execution_count": 11,
   "id": "1a25baff",
   "metadata": {},
   "outputs": [
    {
     "data": {
      "text/html": [
       "<div>\n",
       "<style scoped>\n",
       "    .dataframe tbody tr th:only-of-type {\n",
       "        vertical-align: middle;\n",
       "    }\n",
       "\n",
       "    .dataframe tbody tr th {\n",
       "        vertical-align: top;\n",
       "    }\n",
       "\n",
       "    .dataframe thead th {\n",
       "        text-align: right;\n",
       "    }\n",
       "</style>\n",
       "<table border=\"1\" class=\"dataframe\">\n",
       "  <thead>\n",
       "    <tr style=\"text-align: right;\">\n",
       "      <th></th>\n",
       "      <th>Date</th>\n",
       "      <th>Open</th>\n",
       "      <th>High</th>\n",
       "      <th>Low</th>\n",
       "      <th>Close</th>\n",
       "      <th>Adj Close</th>\n",
       "      <th>Volume</th>\n",
       "    </tr>\n",
       "  </thead>\n",
       "  <tbody>\n",
       "    <tr>\n",
       "      <th>1044</th>\n",
       "      <td>2018-01-02</td>\n",
       "      <td>24.070000</td>\n",
       "      <td>24.570000</td>\n",
       "      <td>23.850000</td>\n",
       "      <td>24.510000</td>\n",
       "      <td>24.510000</td>\n",
       "      <td>15297229.0</td>\n",
       "    </tr>\n",
       "    <tr>\n",
       "      <th>1045</th>\n",
       "      <td>2018-01-03</td>\n",
       "      <td>24.559999</td>\n",
       "      <td>24.680000</td>\n",
       "      <td>24.070000</td>\n",
       "      <td>24.450001</td>\n",
       "      <td>24.450001</td>\n",
       "      <td>12832637.0</td>\n",
       "    </tr>\n",
       "    <tr>\n",
       "      <th>1046</th>\n",
       "      <td>2018-01-04</td>\n",
       "      <td>24.500000</td>\n",
       "      <td>24.590000</td>\n",
       "      <td>23.684999</td>\n",
       "      <td>23.990000</td>\n",
       "      <td>23.990000</td>\n",
       "      <td>17653544.0</td>\n",
       "    </tr>\n",
       "    <tr>\n",
       "      <th>1047</th>\n",
       "      <td>2018-01-05</td>\n",
       "      <td>24.070000</td>\n",
       "      <td>24.570000</td>\n",
       "      <td>23.879999</td>\n",
       "      <td>24.320000</td>\n",
       "      <td>24.320000</td>\n",
       "      <td>14953171.0</td>\n",
       "    </tr>\n",
       "    <tr>\n",
       "      <th>1048</th>\n",
       "      <td>2018-01-08</td>\n",
       "      <td>24.370001</td>\n",
       "      <td>24.780001</td>\n",
       "      <td>23.879999</td>\n",
       "      <td>24.590000</td>\n",
       "      <td>24.590000</td>\n",
       "      <td>17831260.0</td>\n",
       "    </tr>\n",
       "    <tr>\n",
       "      <th>...</th>\n",
       "      <td>...</td>\n",
       "      <td>...</td>\n",
       "      <td>...</td>\n",
       "      <td>...</td>\n",
       "      <td>...</td>\n",
       "      <td>...</td>\n",
       "      <td>...</td>\n",
       "    </tr>\n",
       "    <tr>\n",
       "      <th>2254</th>\n",
       "      <td>2022-10-21</td>\n",
       "      <td>50.000000</td>\n",
       "      <td>50.750000</td>\n",
       "      <td>49.549999</td>\n",
       "      <td>49.889999</td>\n",
       "      <td>49.889999</td>\n",
       "      <td>51209029.0</td>\n",
       "    </tr>\n",
       "    <tr>\n",
       "      <th>2255</th>\n",
       "      <td>2022-10-24</td>\n",
       "      <td>50.709999</td>\n",
       "      <td>51.860001</td>\n",
       "      <td>50.520000</td>\n",
       "      <td>51.520000</td>\n",
       "      <td>51.520000</td>\n",
       "      <td>22987553.0</td>\n",
       "    </tr>\n",
       "    <tr>\n",
       "      <th>2256</th>\n",
       "      <td>2022-10-25</td>\n",
       "      <td>52.415001</td>\n",
       "      <td>53.180000</td>\n",
       "      <td>52.200001</td>\n",
       "      <td>52.779999</td>\n",
       "      <td>52.779999</td>\n",
       "      <td>35077848.0</td>\n",
       "    </tr>\n",
       "    <tr>\n",
       "      <th>2257</th>\n",
       "      <td>2022-10-26</td>\n",
       "      <td>52.950001</td>\n",
       "      <td>53.500000</td>\n",
       "      <td>52.770000</td>\n",
       "      <td>53.349998</td>\n",
       "      <td>53.349998</td>\n",
       "      <td>28064973.0</td>\n",
       "    </tr>\n",
       "    <tr>\n",
       "      <th>2258</th>\n",
       "      <td>2022-10-27</td>\n",
       "      <td>53.910000</td>\n",
       "      <td>54.000000</td>\n",
       "      <td>53.700001</td>\n",
       "      <td>53.700001</td>\n",
       "      <td>53.700001</td>\n",
       "      <td>136345128.0</td>\n",
       "    </tr>\n",
       "  </tbody>\n",
       "</table>\n",
       "<p>1215 rows × 7 columns</p>\n",
       "</div>"
      ],
      "text/plain": [
       "           Date       Open       High        Low      Close  Adj Close  \\\n",
       "1044 2018-01-02  24.070000  24.570000  23.850000  24.510000  24.510000   \n",
       "1045 2018-01-03  24.559999  24.680000  24.070000  24.450001  24.450001   \n",
       "1046 2018-01-04  24.500000  24.590000  23.684999  23.990000  23.990000   \n",
       "1047 2018-01-05  24.070000  24.570000  23.879999  24.320000  24.320000   \n",
       "1048 2018-01-08  24.370001  24.780001  23.879999  24.590000  24.590000   \n",
       "...         ...        ...        ...        ...        ...        ...   \n",
       "2254 2022-10-21  50.000000  50.750000  49.549999  49.889999  49.889999   \n",
       "2255 2022-10-24  50.709999  51.860001  50.520000  51.520000  51.520000   \n",
       "2256 2022-10-25  52.415001  53.180000  52.200001  52.779999  52.779999   \n",
       "2257 2022-10-26  52.950001  53.500000  52.770000  53.349998  53.349998   \n",
       "2258 2022-10-27  53.910000  54.000000  53.700001  53.700001  53.700001   \n",
       "\n",
       "           Volume  \n",
       "1044   15297229.0  \n",
       "1045   12832637.0  \n",
       "1046   17653544.0  \n",
       "1047   14953171.0  \n",
       "1048   17831260.0  \n",
       "...           ...  \n",
       "2254   51209029.0  \n",
       "2255   22987553.0  \n",
       "2256   35077848.0  \n",
       "2257   28064973.0  \n",
       "2258  136345128.0  \n",
       "\n",
       "[1215 rows x 7 columns]"
      ]
     },
     "execution_count": 11,
     "metadata": {},
     "output_type": "execute_result"
    }
   ],
   "source": [
    "df_recent"
   ]
  },
  {
   "cell_type": "code",
   "execution_count": 97,
   "id": "3890e42f",
   "metadata": {},
   "outputs": [
    {
     "ename": "AttributeError",
     "evalue": "'str' object has no attribute 'year'",
     "output_type": "error",
     "traceback": [
      "\u001b[0;31m---------------------------------------------------------------------------\u001b[0m",
      "\u001b[0;31mAttributeError\u001b[0m                            Traceback (most recent call last)",
      "Cell \u001b[0;32mIn [97], line 2\u001b[0m\n\u001b[1;32m      1\u001b[0m \u001b[38;5;66;03m#df_monthly = df.groupby([df.Date.dt.year, df.Date.dt.month])['Close'].mean()\u001b[39;00m\n\u001b[0;32m----> 2\u001b[0m df_monthly \u001b[38;5;241m=\u001b[39m df\u001b[38;5;241m.\u001b[39mgroupby([\u001b[43mdf\u001b[49m\u001b[43m[\u001b[49m\u001b[38;5;124;43m'\u001b[39;49m\u001b[38;5;124;43mDate\u001b[39;49m\u001b[38;5;124;43m'\u001b[39;49m\u001b[43m]\u001b[49m\u001b[38;5;241;43m.\u001b[39;49m\u001b[43mrename\u001b[49m\u001b[43m(\u001b[49m\u001b[38;5;124;43m\"\u001b[39;49m\u001b[38;5;124;43myear\u001b[39;49m\u001b[38;5;124;43m\"\u001b[39;49m\u001b[43m)\u001b[49m\u001b[38;5;241;43m.\u001b[39;49m\u001b[43mmap\u001b[49m\u001b[43m(\u001b[49m\u001b[38;5;28;43;01mlambda\u001b[39;49;00m\u001b[43m \u001b[49m\u001b[43mt\u001b[49m\u001b[43m:\u001b[49m\u001b[43m \u001b[49m\u001b[43mt\u001b[49m\u001b[38;5;241;43m.\u001b[39;49m\u001b[43myear\u001b[49m\u001b[43m)\u001b[49m, df[\u001b[38;5;124m'\u001b[39m\u001b[38;5;124mDate\u001b[39m\u001b[38;5;124m'\u001b[39m]\u001b[38;5;241m.\u001b[39mrename(\u001b[38;5;124m\"\u001b[39m\u001b[38;5;124mmonth\u001b[39m\u001b[38;5;124m\"\u001b[39m)\u001b[38;5;241m.\u001b[39mmap(\u001b[38;5;28;01mlambda\u001b[39;00m t: t\u001b[38;5;241m.\u001b[39mmonth)])[\u001b[38;5;124m'\u001b[39m\u001b[38;5;124mClose\u001b[39m\u001b[38;5;124m'\u001b[39m]\u001b[38;5;241m.\u001b[39mmean()\n",
      "File \u001b[0;32m~/Desktop/School/SFU/Semesters/Fall2022/STAT485/project/venv/lib/python3.9/site-packages/pandas/core/series.py:4539\u001b[0m, in \u001b[0;36mSeries.map\u001b[0;34m(self, arg, na_action)\u001b[0m\n\u001b[1;32m   4460\u001b[0m \u001b[38;5;28;01mdef\u001b[39;00m \u001b[38;5;21mmap\u001b[39m(\n\u001b[1;32m   4461\u001b[0m     \u001b[38;5;28mself\u001b[39m,\n\u001b[1;32m   4462\u001b[0m     arg: Callable \u001b[38;5;241m|\u001b[39m Mapping \u001b[38;5;241m|\u001b[39m Series,\n\u001b[1;32m   4463\u001b[0m     na_action: Literal[\u001b[38;5;124m\"\u001b[39m\u001b[38;5;124mignore\u001b[39m\u001b[38;5;124m\"\u001b[39m] \u001b[38;5;241m|\u001b[39m \u001b[38;5;28;01mNone\u001b[39;00m \u001b[38;5;241m=\u001b[39m \u001b[38;5;28;01mNone\u001b[39;00m,\n\u001b[1;32m   4464\u001b[0m ) \u001b[38;5;241m-\u001b[39m\u001b[38;5;241m>\u001b[39m Series:\n\u001b[1;32m   4465\u001b[0m     \u001b[38;5;124;03m\"\"\"\u001b[39;00m\n\u001b[1;32m   4466\u001b[0m \u001b[38;5;124;03m    Map values of Series according to an input mapping or function.\u001b[39;00m\n\u001b[1;32m   4467\u001b[0m \n\u001b[0;32m   (...)\u001b[0m\n\u001b[1;32m   4537\u001b[0m \u001b[38;5;124;03m    dtype: object\u001b[39;00m\n\u001b[1;32m   4538\u001b[0m \u001b[38;5;124;03m    \"\"\"\u001b[39;00m\n\u001b[0;32m-> 4539\u001b[0m     new_values \u001b[38;5;241m=\u001b[39m \u001b[38;5;28;43mself\u001b[39;49m\u001b[38;5;241;43m.\u001b[39;49m\u001b[43m_map_values\u001b[49m\u001b[43m(\u001b[49m\u001b[43marg\u001b[49m\u001b[43m,\u001b[49m\u001b[43m \u001b[49m\u001b[43mna_action\u001b[49m\u001b[38;5;241;43m=\u001b[39;49m\u001b[43mna_action\u001b[49m\u001b[43m)\u001b[49m\n\u001b[1;32m   4540\u001b[0m     \u001b[38;5;28;01mreturn\u001b[39;00m \u001b[38;5;28mself\u001b[39m\u001b[38;5;241m.\u001b[39m_constructor(new_values, index\u001b[38;5;241m=\u001b[39m\u001b[38;5;28mself\u001b[39m\u001b[38;5;241m.\u001b[39mindex)\u001b[38;5;241m.\u001b[39m__finalize__(\n\u001b[1;32m   4541\u001b[0m         \u001b[38;5;28mself\u001b[39m, method\u001b[38;5;241m=\u001b[39m\u001b[38;5;124m\"\u001b[39m\u001b[38;5;124mmap\u001b[39m\u001b[38;5;124m\"\u001b[39m\n\u001b[1;32m   4542\u001b[0m     )\n",
      "File \u001b[0;32m~/Desktop/School/SFU/Semesters/Fall2022/STAT485/project/venv/lib/python3.9/site-packages/pandas/core/base.py:890\u001b[0m, in \u001b[0;36mIndexOpsMixin._map_values\u001b[0;34m(self, mapper, na_action)\u001b[0m\n\u001b[1;32m    887\u001b[0m         \u001b[38;5;28;01mraise\u001b[39;00m \u001b[38;5;167;01mValueError\u001b[39;00m(msg)\n\u001b[1;32m    889\u001b[0m \u001b[38;5;66;03m# mapper is a function\u001b[39;00m\n\u001b[0;32m--> 890\u001b[0m new_values \u001b[38;5;241m=\u001b[39m \u001b[43mmap_f\u001b[49m\u001b[43m(\u001b[49m\u001b[43mvalues\u001b[49m\u001b[43m,\u001b[49m\u001b[43m \u001b[49m\u001b[43mmapper\u001b[49m\u001b[43m)\u001b[49m\n\u001b[1;32m    892\u001b[0m \u001b[38;5;28;01mreturn\u001b[39;00m new_values\n",
      "File \u001b[0;32m~/Desktop/School/SFU/Semesters/Fall2022/STAT485/project/venv/lib/python3.9/site-packages/pandas/_libs/lib.pyx:2918\u001b[0m, in \u001b[0;36mpandas._libs.lib.map_infer\u001b[0;34m()\u001b[0m\n",
      "Cell \u001b[0;32mIn [97], line 2\u001b[0m, in \u001b[0;36m<lambda>\u001b[0;34m(t)\u001b[0m\n\u001b[1;32m      1\u001b[0m \u001b[38;5;66;03m#df_monthly = df.groupby([df.Date.dt.year, df.Date.dt.month])['Close'].mean()\u001b[39;00m\n\u001b[0;32m----> 2\u001b[0m df_monthly \u001b[38;5;241m=\u001b[39m df\u001b[38;5;241m.\u001b[39mgroupby([df[\u001b[38;5;124m'\u001b[39m\u001b[38;5;124mDate\u001b[39m\u001b[38;5;124m'\u001b[39m]\u001b[38;5;241m.\u001b[39mrename(\u001b[38;5;124m\"\u001b[39m\u001b[38;5;124myear\u001b[39m\u001b[38;5;124m\"\u001b[39m)\u001b[38;5;241m.\u001b[39mmap(\u001b[38;5;28;01mlambda\u001b[39;00m t: \u001b[43mt\u001b[49m\u001b[38;5;241;43m.\u001b[39;49m\u001b[43myear\u001b[49m), df[\u001b[38;5;124m'\u001b[39m\u001b[38;5;124mDate\u001b[39m\u001b[38;5;124m'\u001b[39m]\u001b[38;5;241m.\u001b[39mrename(\u001b[38;5;124m\"\u001b[39m\u001b[38;5;124mmonth\u001b[39m\u001b[38;5;124m\"\u001b[39m)\u001b[38;5;241m.\u001b[39mmap(\u001b[38;5;28;01mlambda\u001b[39;00m t: t\u001b[38;5;241m.\u001b[39mmonth)])[\u001b[38;5;124m'\u001b[39m\u001b[38;5;124mClose\u001b[39m\u001b[38;5;124m'\u001b[39m]\u001b[38;5;241m.\u001b[39mmean()\n",
      "\u001b[0;31mAttributeError\u001b[0m: 'str' object has no attribute 'year'"
     ]
    }
   ],
   "source": [
    "#df_monthly = df.groupby([df.Date.dt.year, df.Date.dt.month])['Close'].mean()\n",
    "df_monthly = df.groupby([df['Date'].rename(\"year\").map(lambda t: t.year), df['Date'].rename(\"month\").map(lambda t: t.month)])['Close'].mean()"
   ]
  },
  {
   "cell_type": "code",
   "execution_count": 95,
   "id": "5cb9bc98",
   "metadata": {},
   "outputs": [],
   "source": [
    "df_monthly = df_monthly.reset_index()"
   ]
  },
  {
   "cell_type": "code",
   "execution_count": 91,
   "id": "ff6c19eb",
   "metadata": {},
   "outputs": [],
   "source": [
    "df_monthly['year_month'] = df_monthly['year'] + df_monthly['month']"
   ]
  },
  {
   "cell_type": "code",
   "execution_count": 92,
   "id": "54caa42f",
   "metadata": {},
   "outputs": [
    {
     "ename": "ValueError",
     "evalue": "Could not interpret value `year_month` for parameter `x`",
     "output_type": "error",
     "traceback": [
      "\u001b[0;31m---------------------------------------------------------------------------\u001b[0m",
      "\u001b[0;31mValueError\u001b[0m                                Traceback (most recent call last)",
      "Cell \u001b[0;32mIn [92], line 1\u001b[0m\n\u001b[0;32m----> 1\u001b[0m \u001b[43msns\u001b[49m\u001b[38;5;241;43m.\u001b[39;49m\u001b[43mlineplot\u001b[49m\u001b[43m(\u001b[49m\u001b[43mdf_monthly\u001b[49m\u001b[38;5;241;43m.\u001b[39;49m\u001b[43mreset_index\u001b[49m\u001b[43m(\u001b[49m\u001b[43m)\u001b[49m\u001b[43m,\u001b[49m\u001b[43m \u001b[49m\u001b[43mx\u001b[49m\u001b[38;5;241;43m=\u001b[39;49m\u001b[38;5;124;43m'\u001b[39;49m\u001b[38;5;124;43myear_month\u001b[39;49m\u001b[38;5;124;43m'\u001b[39;49m\u001b[43m,\u001b[49m\u001b[43m \u001b[49m\u001b[43my\u001b[49m\u001b[38;5;241;43m=\u001b[39;49m\u001b[38;5;124;43m'\u001b[39;49m\u001b[38;5;124;43mClose\u001b[39;49m\u001b[38;5;124;43m'\u001b[39;49m\u001b[43m)\u001b[49m\n",
      "File \u001b[0;32m~/Desktop/School/SFU/Semesters/Fall2022/STAT485/project/venv/lib/python3.9/site-packages/seaborn/relational.py:618\u001b[0m, in \u001b[0;36mlineplot\u001b[0;34m(data, x, y, hue, size, style, units, palette, hue_order, hue_norm, sizes, size_order, size_norm, dashes, markers, style_order, estimator, errorbar, n_boot, seed, orient, sort, err_style, err_kws, legend, ci, ax, **kwargs)\u001b[0m\n\u001b[1;32m    615\u001b[0m errorbar \u001b[38;5;241m=\u001b[39m _deprecate_ci(errorbar, ci)\n\u001b[1;32m    617\u001b[0m variables \u001b[38;5;241m=\u001b[39m _LinePlotter\u001b[38;5;241m.\u001b[39mget_semantics(\u001b[38;5;28mlocals\u001b[39m())\n\u001b[0;32m--> 618\u001b[0m p \u001b[38;5;241m=\u001b[39m \u001b[43m_LinePlotter\u001b[49m\u001b[43m(\u001b[49m\n\u001b[1;32m    619\u001b[0m \u001b[43m    \u001b[49m\u001b[43mdata\u001b[49m\u001b[38;5;241;43m=\u001b[39;49m\u001b[43mdata\u001b[49m\u001b[43m,\u001b[49m\u001b[43m \u001b[49m\u001b[43mvariables\u001b[49m\u001b[38;5;241;43m=\u001b[39;49m\u001b[43mvariables\u001b[49m\u001b[43m,\u001b[49m\n\u001b[1;32m    620\u001b[0m \u001b[43m    \u001b[49m\u001b[43mestimator\u001b[49m\u001b[38;5;241;43m=\u001b[39;49m\u001b[43mestimator\u001b[49m\u001b[43m,\u001b[49m\u001b[43m \u001b[49m\u001b[43mn_boot\u001b[49m\u001b[38;5;241;43m=\u001b[39;49m\u001b[43mn_boot\u001b[49m\u001b[43m,\u001b[49m\u001b[43m \u001b[49m\u001b[43mseed\u001b[49m\u001b[38;5;241;43m=\u001b[39;49m\u001b[43mseed\u001b[49m\u001b[43m,\u001b[49m\u001b[43m \u001b[49m\u001b[43merrorbar\u001b[49m\u001b[38;5;241;43m=\u001b[39;49m\u001b[43merrorbar\u001b[49m\u001b[43m,\u001b[49m\n\u001b[1;32m    621\u001b[0m \u001b[43m    \u001b[49m\u001b[43msort\u001b[49m\u001b[38;5;241;43m=\u001b[39;49m\u001b[43msort\u001b[49m\u001b[43m,\u001b[49m\u001b[43m \u001b[49m\u001b[43morient\u001b[49m\u001b[38;5;241;43m=\u001b[39;49m\u001b[43morient\u001b[49m\u001b[43m,\u001b[49m\u001b[43m \u001b[49m\u001b[43merr_style\u001b[49m\u001b[38;5;241;43m=\u001b[39;49m\u001b[43merr_style\u001b[49m\u001b[43m,\u001b[49m\u001b[43m \u001b[49m\u001b[43merr_kws\u001b[49m\u001b[38;5;241;43m=\u001b[39;49m\u001b[43merr_kws\u001b[49m\u001b[43m,\u001b[49m\n\u001b[1;32m    622\u001b[0m \u001b[43m    \u001b[49m\u001b[43mlegend\u001b[49m\u001b[38;5;241;43m=\u001b[39;49m\u001b[43mlegend\u001b[49m\u001b[43m,\u001b[49m\n\u001b[1;32m    623\u001b[0m \u001b[43m\u001b[49m\u001b[43m)\u001b[49m\n\u001b[1;32m    625\u001b[0m p\u001b[38;5;241m.\u001b[39mmap_hue(palette\u001b[38;5;241m=\u001b[39mpalette, order\u001b[38;5;241m=\u001b[39mhue_order, norm\u001b[38;5;241m=\u001b[39mhue_norm)\n\u001b[1;32m    626\u001b[0m p\u001b[38;5;241m.\u001b[39mmap_size(sizes\u001b[38;5;241m=\u001b[39msizes, order\u001b[38;5;241m=\u001b[39msize_order, norm\u001b[38;5;241m=\u001b[39msize_norm)\n",
      "File \u001b[0;32m~/Desktop/School/SFU/Semesters/Fall2022/STAT485/project/venv/lib/python3.9/site-packages/seaborn/relational.py:365\u001b[0m, in \u001b[0;36m_LinePlotter.__init__\u001b[0;34m(self, data, variables, estimator, n_boot, seed, errorbar, sort, orient, err_style, err_kws, legend)\u001b[0m\n\u001b[1;32m    351\u001b[0m \u001b[38;5;28;01mdef\u001b[39;00m \u001b[38;5;21m__init__\u001b[39m(\n\u001b[1;32m    352\u001b[0m     \u001b[38;5;28mself\u001b[39m, \u001b[38;5;241m*\u001b[39m,\n\u001b[1;32m    353\u001b[0m     data\u001b[38;5;241m=\u001b[39m\u001b[38;5;28;01mNone\u001b[39;00m, variables\u001b[38;5;241m=\u001b[39m{},\n\u001b[0;32m   (...)\u001b[0m\n\u001b[1;32m    359\u001b[0m     \u001b[38;5;66;03m# the kind of plot to draw, but for the time being we need to set\u001b[39;00m\n\u001b[1;32m    360\u001b[0m     \u001b[38;5;66;03m# this information so the SizeMapping can use it\u001b[39;00m\n\u001b[1;32m    361\u001b[0m     \u001b[38;5;28mself\u001b[39m\u001b[38;5;241m.\u001b[39m_default_size_range \u001b[38;5;241m=\u001b[39m (\n\u001b[1;32m    362\u001b[0m         np\u001b[38;5;241m.\u001b[39mr_[\u001b[38;5;241m.5\u001b[39m, \u001b[38;5;241m2\u001b[39m] \u001b[38;5;241m*\u001b[39m mpl\u001b[38;5;241m.\u001b[39mrcParams[\u001b[38;5;124m\"\u001b[39m\u001b[38;5;124mlines.linewidth\u001b[39m\u001b[38;5;124m\"\u001b[39m]\n\u001b[1;32m    363\u001b[0m     )\n\u001b[0;32m--> 365\u001b[0m     \u001b[38;5;28;43msuper\u001b[39;49m\u001b[43m(\u001b[49m\u001b[43m)\u001b[49m\u001b[38;5;241;43m.\u001b[39;49m\u001b[38;5;21;43m__init__\u001b[39;49m\u001b[43m(\u001b[49m\u001b[43mdata\u001b[49m\u001b[38;5;241;43m=\u001b[39;49m\u001b[43mdata\u001b[49m\u001b[43m,\u001b[49m\u001b[43m \u001b[49m\u001b[43mvariables\u001b[49m\u001b[38;5;241;43m=\u001b[39;49m\u001b[43mvariables\u001b[49m\u001b[43m)\u001b[49m\n\u001b[1;32m    367\u001b[0m     \u001b[38;5;28mself\u001b[39m\u001b[38;5;241m.\u001b[39mestimator \u001b[38;5;241m=\u001b[39m estimator\n\u001b[1;32m    368\u001b[0m     \u001b[38;5;28mself\u001b[39m\u001b[38;5;241m.\u001b[39merrorbar \u001b[38;5;241m=\u001b[39m errorbar\n",
      "File \u001b[0;32m~/Desktop/School/SFU/Semesters/Fall2022/STAT485/project/venv/lib/python3.9/site-packages/seaborn/_oldcore.py:640\u001b[0m, in \u001b[0;36mVectorPlotter.__init__\u001b[0;34m(self, data, variables)\u001b[0m\n\u001b[1;32m    635\u001b[0m \u001b[38;5;66;03m# var_ordered is relevant only for categorical axis variables, and may\u001b[39;00m\n\u001b[1;32m    636\u001b[0m \u001b[38;5;66;03m# be better handled by an internal axis information object that tracks\u001b[39;00m\n\u001b[1;32m    637\u001b[0m \u001b[38;5;66;03m# such information and is set up by the scale_* methods. The analogous\u001b[39;00m\n\u001b[1;32m    638\u001b[0m \u001b[38;5;66;03m# information for numeric axes would be information about log scales.\u001b[39;00m\n\u001b[1;32m    639\u001b[0m \u001b[38;5;28mself\u001b[39m\u001b[38;5;241m.\u001b[39m_var_ordered \u001b[38;5;241m=\u001b[39m {\u001b[38;5;124m\"\u001b[39m\u001b[38;5;124mx\u001b[39m\u001b[38;5;124m\"\u001b[39m: \u001b[38;5;28;01mFalse\u001b[39;00m, \u001b[38;5;124m\"\u001b[39m\u001b[38;5;124my\u001b[39m\u001b[38;5;124m\"\u001b[39m: \u001b[38;5;28;01mFalse\u001b[39;00m}  \u001b[38;5;66;03m# alt., used DefaultDict\u001b[39;00m\n\u001b[0;32m--> 640\u001b[0m \u001b[38;5;28;43mself\u001b[39;49m\u001b[38;5;241;43m.\u001b[39;49m\u001b[43massign_variables\u001b[49m\u001b[43m(\u001b[49m\u001b[43mdata\u001b[49m\u001b[43m,\u001b[49m\u001b[43m \u001b[49m\u001b[43mvariables\u001b[49m\u001b[43m)\u001b[49m\n\u001b[1;32m    642\u001b[0m \u001b[38;5;28;01mfor\u001b[39;00m var, \u001b[38;5;28mcls\u001b[39m \u001b[38;5;129;01min\u001b[39;00m \u001b[38;5;28mself\u001b[39m\u001b[38;5;241m.\u001b[39m_semantic_mappings\u001b[38;5;241m.\u001b[39mitems():\n\u001b[1;32m    643\u001b[0m \n\u001b[1;32m    644\u001b[0m     \u001b[38;5;66;03m# Create the mapping function\u001b[39;00m\n\u001b[1;32m    645\u001b[0m     map_func \u001b[38;5;241m=\u001b[39m partial(\u001b[38;5;28mcls\u001b[39m\u001b[38;5;241m.\u001b[39mmap, plotter\u001b[38;5;241m=\u001b[39m\u001b[38;5;28mself\u001b[39m)\n",
      "File \u001b[0;32m~/Desktop/School/SFU/Semesters/Fall2022/STAT485/project/venv/lib/python3.9/site-packages/seaborn/_oldcore.py:701\u001b[0m, in \u001b[0;36mVectorPlotter.assign_variables\u001b[0;34m(self, data, variables)\u001b[0m\n\u001b[1;32m    699\u001b[0m \u001b[38;5;28;01melse\u001b[39;00m:\n\u001b[1;32m    700\u001b[0m     \u001b[38;5;28mself\u001b[39m\u001b[38;5;241m.\u001b[39minput_format \u001b[38;5;241m=\u001b[39m \u001b[38;5;124m\"\u001b[39m\u001b[38;5;124mlong\u001b[39m\u001b[38;5;124m\"\u001b[39m\n\u001b[0;32m--> 701\u001b[0m     plot_data, variables \u001b[38;5;241m=\u001b[39m \u001b[38;5;28;43mself\u001b[39;49m\u001b[38;5;241;43m.\u001b[39;49m\u001b[43m_assign_variables_longform\u001b[49m\u001b[43m(\u001b[49m\n\u001b[1;32m    702\u001b[0m \u001b[43m        \u001b[49m\u001b[43mdata\u001b[49m\u001b[43m,\u001b[49m\u001b[43m \u001b[49m\u001b[38;5;241;43m*\u001b[39;49m\u001b[38;5;241;43m*\u001b[39;49m\u001b[43mvariables\u001b[49m\u001b[43m,\u001b[49m\n\u001b[1;32m    703\u001b[0m \u001b[43m    \u001b[49m\u001b[43m)\u001b[49m\n\u001b[1;32m    705\u001b[0m \u001b[38;5;28mself\u001b[39m\u001b[38;5;241m.\u001b[39mplot_data \u001b[38;5;241m=\u001b[39m plot_data\n\u001b[1;32m    706\u001b[0m \u001b[38;5;28mself\u001b[39m\u001b[38;5;241m.\u001b[39mvariables \u001b[38;5;241m=\u001b[39m variables\n",
      "File \u001b[0;32m~/Desktop/School/SFU/Semesters/Fall2022/STAT485/project/venv/lib/python3.9/site-packages/seaborn/_oldcore.py:938\u001b[0m, in \u001b[0;36mVectorPlotter._assign_variables_longform\u001b[0;34m(self, data, **kwargs)\u001b[0m\n\u001b[1;32m    933\u001b[0m \u001b[38;5;28;01melif\u001b[39;00m \u001b[38;5;28misinstance\u001b[39m(val, (\u001b[38;5;28mstr\u001b[39m, \u001b[38;5;28mbytes\u001b[39m)):\n\u001b[1;32m    934\u001b[0m \n\u001b[1;32m    935\u001b[0m     \u001b[38;5;66;03m# This looks like a column name but we don't know what it means!\u001b[39;00m\n\u001b[1;32m    937\u001b[0m     err \u001b[38;5;241m=\u001b[39m \u001b[38;5;124mf\u001b[39m\u001b[38;5;124m\"\u001b[39m\u001b[38;5;124mCould not interpret value `\u001b[39m\u001b[38;5;132;01m{\u001b[39;00mval\u001b[38;5;132;01m}\u001b[39;00m\u001b[38;5;124m` for parameter `\u001b[39m\u001b[38;5;132;01m{\u001b[39;00mkey\u001b[38;5;132;01m}\u001b[39;00m\u001b[38;5;124m`\u001b[39m\u001b[38;5;124m\"\u001b[39m\n\u001b[0;32m--> 938\u001b[0m     \u001b[38;5;28;01mraise\u001b[39;00m \u001b[38;5;167;01mValueError\u001b[39;00m(err)\n\u001b[1;32m    940\u001b[0m \u001b[38;5;28;01melse\u001b[39;00m:\n\u001b[1;32m    941\u001b[0m \n\u001b[1;32m    942\u001b[0m     \u001b[38;5;66;03m# Otherwise, assume the value is itself data\u001b[39;00m\n\u001b[1;32m    943\u001b[0m \n\u001b[1;32m    944\u001b[0m     \u001b[38;5;66;03m# Raise when data object is present and a vector can't matched\u001b[39;00m\n\u001b[1;32m    945\u001b[0m     \u001b[38;5;28;01mif\u001b[39;00m \u001b[38;5;28misinstance\u001b[39m(data, pd\u001b[38;5;241m.\u001b[39mDataFrame) \u001b[38;5;129;01mand\u001b[39;00m \u001b[38;5;129;01mnot\u001b[39;00m \u001b[38;5;28misinstance\u001b[39m(val, pd\u001b[38;5;241m.\u001b[39mSeries):\n",
      "\u001b[0;31mValueError\u001b[0m: Could not interpret value `year_month` for parameter `x`"
     ]
    }
   ],
   "source": [
    "sns.lineplot(df_monthly, x='year_month', y='Close')"
   ]
  },
  {
   "cell_type": "markdown",
   "id": "0f429826",
   "metadata": {},
   "source": [
    "### Daily Line Plot: 2014 - 2022"
   ]
  },
  {
   "cell_type": "code",
   "execution_count": 49,
   "id": "3b974d99",
   "metadata": {
    "scrolled": false
   },
   "outputs": [
    {
     "data": {
      "text/plain": [
       "<AxesSubplot: xlabel='Date', ylabel='Close'>"
      ]
     },
     "execution_count": 49,
     "metadata": {},
     "output_type": "execute_result"
    },
    {
     "data": {
      "image/png": "[encoded data removed]",
      "text/plain": [
       "<Figure size 640x480 with 1 Axes>"
      ]
     },
     "metadata": {},
     "output_type": "display_data"
    }
   ],
   "source": [
    "sns.lineplot(df, x='Date', y='Close')"
   ]
  },
  {
   "cell_type": "markdown",
   "id": "7d05d167",
   "metadata": {},
   "source": [
    "### t vs t-1"
   ]
  },
  {
   "cell_type": "code",
   "execution_count": 76,
   "id": "fb3e5f4a",
   "metadata": {},
   "outputs": [],
   "source": [
    "df['Close_lag_1'] = df['Close'].shift(-1)"
   ]
  },
  {
   "cell_type": "code",
   "execution_count": 77,
   "id": "bee7d5b1",
   "metadata": {},
   "outputs": [
    {
     "data": {
      "text/plain": [
       "<AxesSubplot: xlabel='Close_lag_1', ylabel='Close'>"
      ]
     },
     "execution_count": 77,
     "metadata": {},
     "output_type": "execute_result"
    },
    {
     "data": {
      "image/png": "[encoded data removed]",
      "text/plain": [
       "<Figure size 640x480 with 1 Axes>"
      ]
     },
     "metadata": {},
     "output_type": "display_data"
    }
   ],
   "source": [
    "sns.lineplot(df, x='Close_lag_1', y='Close')"
   ]
  },
  {
   "cell_type": "markdown",
   "id": "d092d7b1",
   "metadata": {},
   "source": [
    "#### t vs t-1 is showing a clear upwards trend --> strong positive correlation"
   ]
  },
  {
   "cell_type": "markdown",
   "id": "346c04bd",
   "metadata": {},
   "source": [
    "## Stationarity\n",
    "\n",
    "### Dickey Fuller Test"
   ]
  },
  {
   "cell_type": "code",
   "execution_count": 65,
   "id": "6640efe2",
   "metadata": {},
   "outputs": [],
   "source": [
    "from statsmodels.tsa.stattools import adfuller"
   ]
  },
  {
   "cell_type": "code",
   "execution_count": 60,
   "id": "abbf325c",
   "metadata": {},
   "outputs": [
    {
     "name": "stdout",
     "output_type": "stream",
     "text": [
      "                Close\n",
      "Date                 \n",
      "2013-11-07  44.900002\n",
      "2013-11-08  41.650002\n",
      "2013-11-11  42.900002\n",
      "2013-11-12  41.900002\n",
      "2013-11-13  42.599998\n",
      "2013-11-14  44.689999\n",
      "2013-11-15  43.980000\n",
      "2013-11-18  41.139999\n",
      "2013-11-19  41.750000\n",
      "2013-11-20  41.049999\n"
     ]
    }
   ],
   "source": [
    "df.index = df['Date']\n",
    "del df['Date']\n",
    "df = df[['Close']]\n",
    "print(df.head(10))"
   ]
  },
  {
   "cell_type": "code",
   "execution_count": 66,
   "id": "63953463",
   "metadata": {},
   "outputs": [],
   "source": [
    "adft = adfuller(df,autolag=\"AIC\")"
   ]
  },
  {
   "cell_type": "code",
   "execution_count": 67,
   "id": "f390770b",
   "metadata": {},
   "outputs": [
    {
     "name": "stdout",
     "output_type": "stream",
     "text": [
      "        Values                       Metric\n",
      "0    -2.135340              Test Statistics\n",
      "1     0.230544                      p-value\n",
      "2    15.000000             No. of lags used\n",
      "3  2243.000000  Number of observations used\n",
      "4    -3.433269          critical value (1%)\n",
      "5    -2.862829          critical value (5%)\n",
      "6    -2.567456         critical value (10%)\n"
     ]
    }
   ],
   "source": [
    "output_df = pd.DataFrame({\"Values\":[adft[0],adft[1],adft[2],adft[3], adft[4]['1%'], adft[4]['5%'], adft[4]['10%']]  , \"Metric\":[\"Test Statistics\",\"p-value\",\"No. of lags used\",\"Number of observations used\", \n",
    "                                                        \"critical value (1%)\", \"critical value (5%)\", \"critical value (10%)\"]})\n",
    "print(output_df)"
   ]
  },
  {
   "cell_type": "markdown",
   "id": "796dc836",
   "metadata": {},
   "source": [
    "#### We see that our p-value is greater than 0.05. This implies that our data is not stationary. We will need to use differencing in order to attempt to convert our data into a stationary process"
   ]
  },
  {
   "cell_type": "markdown",
   "id": "72a34862",
   "metadata": {},
   "source": [
    "## Autocorrelation"
   ]
  },
  {
   "cell_type": "code",
   "execution_count": 68,
   "id": "ab5709bc",
   "metadata": {},
   "outputs": [
    {
     "name": "stdout",
     "output_type": "stream",
     "text": [
      "One Dat Lag:  0.9955142364847367\n"
     ]
    }
   ],
   "source": [
    "autocorrelation_lag1 = df['Close'].autocorr(lag=1)\n",
    "print(\"One Dat Lag: \", autocorrelation_lag1)"
   ]
  },
  {
   "cell_type": "code",
   "execution_count": 72,
   "id": "e67616cb",
   "metadata": {},
   "outputs": [
    {
     "name": "stdout",
     "output_type": "stream",
     "text": [
      "Three Month Lag:  0.986326416990641\n",
      "Six Month Lag:  0.9733316660115076\n",
      "Nine Month Lag:  0.9598782309705503\n"
     ]
    }
   ],
   "source": [
    "autocorrelation_lag3 = df['Close'].autocorr(lag=3)\n",
    "print(\"Three Month Lag: \", autocorrelation_lag3)\n",
    "\n",
    "autocorrelation_lag6 = df['Close'].autocorr(lag=6)\n",
    "print(\"Six Month Lag: \", autocorrelation_lag6)\n",
    "\n",
    "autocorrelation_lag9 = df['Close'].autocorr(lag=9)\n",
    "print(\"Nine Month Lag: \", autocorrelation_lag9)"
   ]
  },
  {
   "cell_type": "code",
   "execution_count": 85,
   "id": "40fc1590",
   "metadata": {},
   "outputs": [
    {
     "data": {
      "text/plain": [
       "(array([-500, -499, -498, ...,  498,  499,  500]),\n",
       " array([0.55164085, 0.55219572, 0.55277942, ..., 0.55277942, 0.55219572,\n",
       "        0.55164085]),\n",
       " <matplotlib.collections.LineCollection at 0x136607070>,\n",
       " <matplotlib.lines.Line2D at 0x1364694f0>)"
      ]
     },
     "execution_count": 85,
     "metadata": {},
     "output_type": "execute_result"
    },
    {
     "data": {
      "image/png": "[encoded data removed]",
      "text/plain": [
       "<Figure size 640x480 with 1 Axes>"
      ]
     },
     "metadata": {},
     "output_type": "display_data"
    }
   ],
   "source": [
    "plt.acorr(df['Close'], maxlags = 500)"
   ]
  },
  {
   "cell_type": "markdown",
   "id": "8d6aa304",
   "metadata": {},
   "source": [
    "### Differencing"
   ]
  },
  {
   "cell_type": "code",
   "execution_count": 75,
   "id": "ae48202e",
   "metadata": {},
   "outputs": [
    {
     "data": {
      "text/plain": [
       "<AxesSubplot: xlabel='Date', ylabel='Close'>"
      ]
     },
     "execution_count": 75,
     "metadata": {},
     "output_type": "execute_result"
    },
    {
     "data": {
      "image/png": "[encoded data removed]",
      "text/plain": [
       "<Figure size 640x480 with 1 Axes>"
      ]
     },
     "metadata": {},
     "output_type": "display_data"
    }
   ],
   "source": [
    "series2 = df.Close.diff().dropna() #first order differenced series\n",
    "sns.lineplot(series2)"
   ]
  },
  {
   "cell_type": "markdown",
   "id": "c1bff217",
   "metadata": {},
   "source": [
    "## Modelling\n",
    "\n",
    "### Stationary Models\n",
    "\n",
    "### Non-Stationary Models\n",
    "\n",
    "\n",
    "#### Approaches\n",
    "\n",
    "##### Box Jenkins\n",
    "ACF, PACF, EACF --> find values for p, q\n",
    "\n",
    "##### Dynamics Method\n"
   ]
  },
  {
   "cell_type": "code",
   "execution_count": 98,
   "id": "8316a8d8",
   "metadata": {},
   "outputs": [
    {
     "data": {
      "text/plain": [
       "(2259, 7)"
      ]
     },
     "execution_count": 98,
     "metadata": {},
     "output_type": "execute_result"
    }
   ],
   "source": [
    "df.shape"
   ]
  },
  {
   "cell_type": "code",
   "execution_count": null,
   "id": "0fc0f58f",
   "metadata": {},
   "outputs": [],
   "source": []
  }
 ],
 "metadata": {
  "kernelspec": {
   "display_name": "Python 3 (ipykernel)",
   "language": "python",
   "name": "python3"
  },
  "language_info": {
   "codemirror_mode": {
    "name": "ipython",
    "version": 3
   },
   "file_extension": ".py",
   "mimetype": "text/x-python",
   "name": "python",
   "nbconvert_exporter": "python",
   "pygments_lexer": "ipython3",
   "version": "3.9.2"
  }
 },
 "nbformat": 4,
 "nbformat_minor": 5
}
